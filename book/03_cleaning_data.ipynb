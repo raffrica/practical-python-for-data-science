{
 "cells": [
  {
   "cell_type": "markdown",
   "id": "938d39ea",
   "metadata": {},
   "source": [
    "# Data Cleaning"
   ]
  },
  {
   "cell_type": "markdown",
   "id": "410f524b",
   "metadata": {},
   "source": [
    "**Data cleaning** is one most crucial but time-intensive steps in the data science pipeline. In 2014, the New York Times published an [article](https://www.nytimes.com/2014/08/18/technology/for-big-data-scientists-hurdle-to-insights-is-janitor-work.html?_r=0) which estimated that: \n",
    "\n",
    "> Data scientists spend 80% of their time cleaning, preparing, and organizing data. \n",
    "\n",
    "With improvements in the way we collect data, this percentage of time is probably slightly lower now than when the article was first published. But, data cleaning is still a very important process that needs to be taken care of before proceeding to data analysis. \n",
    "\n",
    "<img width=\"40%\" src=\"https://practicalpython.s3.us-east-2.amazonaws.com/assets/data_cleaning_comic.png\"/>\n",
    "\n",
    "Without cleaning our data, the results that we generate from it could be misleading. With garbage data, your results will also be garbage regardless of how much time you spend creating your model and fine-tuning it. \n",
    "\n",
    "So, let's get start with the longest but also most important chapter of this book: **data cleaning** 🧹🗑️. "
   ]
  },
  {
   "cell_type": "markdown",
   "id": "320e469f",
   "metadata": {},
   "source": [
    "## 1) Cleaning our column names"
   ]
  },
  {
   "cell_type": "markdown",
   "id": "2d99bd26",
   "metadata": {},
   "source": [
    "When we first loaded in our NYC real estate dataset, one of the first things that I noticed was the column names. Let's take a look again:"
   ]
  },
  {
   "cell_type": "code",
   "execution_count": 1,
   "id": "3ef88f17",
   "metadata": {},
   "outputs": [
    {
     "data": {
      "text/html": [
       "<div>\n",
       "<style scoped>\n",
       "    .dataframe tbody tr th:only-of-type {\n",
       "        vertical-align: middle;\n",
       "    }\n",
       "\n",
       "    .dataframe tbody tr th {\n",
       "        vertical-align: top;\n",
       "    }\n",
       "\n",
       "    .dataframe thead th {\n",
       "        text-align: right;\n",
       "    }\n",
       "</style>\n",
       "<table border=\"1\" class=\"dataframe\">\n",
       "  <thead>\n",
       "    <tr style=\"text-align: right;\">\n",
       "      <th></th>\n",
       "      <th>BOROUGH</th>\n",
       "      <th>NEIGHBORHOOD</th>\n",
       "      <th>BUILDING CLASS CATEGORY</th>\n",
       "      <th>TAX CLASS AT PRESENT</th>\n",
       "      <th>BLOCK</th>\n",
       "      <th>LOT</th>\n",
       "      <th>EASE-MENT</th>\n",
       "      <th>BUILDING CLASS AT PRESENT</th>\n",
       "      <th>ADDRESS</th>\n",
       "      <th>APARTMENT NUMBER</th>\n",
       "      <th>...</th>\n",
       "      <th>RESIDENTIAL UNITS</th>\n",
       "      <th>COMMERCIAL UNITS</th>\n",
       "      <th>TOTAL UNITS</th>\n",
       "      <th>LAND SQUARE FEET</th>\n",
       "      <th>GROSS SQUARE FEET</th>\n",
       "      <th>YEAR BUILT</th>\n",
       "      <th>TAX CLASS AT TIME OF SALE</th>\n",
       "      <th>BUILDING CLASS AT TIME OF SALE</th>\n",
       "      <th>SALE PRICE</th>\n",
       "      <th>SALE DATE</th>\n",
       "    </tr>\n",
       "  </thead>\n",
       "  <tbody>\n",
       "    <tr>\n",
       "      <th>37371</th>\n",
       "      <td>3</td>\n",
       "      <td>FLATBUSH-CENTRAL</td>\n",
       "      <td>02 TWO FAMILY DWELLINGS</td>\n",
       "      <td>1</td>\n",
       "      <td>5229</td>\n",
       "      <td>74</td>\n",
       "      <td></td>\n",
       "      <td>B1</td>\n",
       "      <td>1295 ROGERS AVENUE</td>\n",
       "      <td></td>\n",
       "      <td>...</td>\n",
       "      <td>2</td>\n",
       "      <td>0</td>\n",
       "      <td>2</td>\n",
       "      <td>4429</td>\n",
       "      <td>1523</td>\n",
       "      <td>1899</td>\n",
       "      <td>1</td>\n",
       "      <td>B1</td>\n",
       "      <td>0</td>\n",
       "      <td>2017-01-05 00:00:00</td>\n",
       "    </tr>\n",
       "  </tbody>\n",
       "</table>\n",
       "<p>1 rows × 21 columns</p>\n",
       "</div>"
      ],
      "text/plain": [
       "       BOROUGH      NEIGHBORHOOD                      BUILDING CLASS CATEGORY  \\\n",
       "37371        3  FLATBUSH-CENTRAL  02 TWO FAMILY DWELLINGS                       \n",
       "\n",
       "      TAX CLASS AT PRESENT  BLOCK  LOT EASE-MENT BUILDING CLASS AT PRESENT  \\\n",
       "37371                    1   5229   74                                  B1   \n",
       "\n",
       "                  ADDRESS APARTMENT NUMBER  ...  RESIDENTIAL UNITS  \\\n",
       "37371  1295 ROGERS AVENUE                   ...                  2   \n",
       "\n",
       "       COMMERCIAL UNITS  TOTAL UNITS  LAND SQUARE FEET GROSS SQUARE FEET  \\\n",
       "37371                 0            2              4429              1523   \n",
       "\n",
       "      YEAR BUILT  TAX CLASS AT TIME OF SALE  BUILDING CLASS AT TIME OF SALE  \\\n",
       "37371       1899                          1                              B1   \n",
       "\n",
       "      SALE PRICE            SALE DATE  \n",
       "37371          0  2017-01-05 00:00:00  \n",
       "\n",
       "[1 rows x 21 columns]"
      ]
     },
     "execution_count": 1,
     "metadata": {},
     "output_type": "execute_result"
    }
   ],
   "source": [
    "import pandas as pd \n",
    "\n",
    "df = pd.read_csv(\"data/nyc_real_estate.csv\")\n",
    "df.sample()"
   ]
  },
  {
   "cell_type": "markdown",
   "id": "f53780af",
   "metadata": {},
   "source": [
    "The column names are all uppercase and have spaces between words. This is not an ideal format for our analysis because we'll be calling these column names often and it's annoying to worry about capitalization and spacing. My ideal format for column names are:\n",
    "\n",
    "1. lowercase \n",
    "2. [snakecase](https://en.wikipedia.org/wiki/Snake_case) (when spaces are replaced with `_` underscores)\n",
    "\n",
    "Let's look at one of the columns from our dataset as an example. The column name is current formatted like this:\n",
    "\n",
    "**`BUILDING CLASS CATEGORY`** 🤮 \n",
    "\n",
    "The ideal format would look something like this: \n",
    "\n",
    "**`building_class_category`** 😇\n",
    "\n",
    "In order to make this change, we can write a function that does this transformation for us. Let's start with our example of BUILDING CLASS CATEGORY."
   ]
  },
  {
   "cell_type": "code",
   "execution_count": 2,
   "id": "58d91e06",
   "metadata": {},
   "outputs": [],
   "source": [
    "original = 'BUILDING CLASS CATEGORY'"
   ]
  },
  {
   "cell_type": "markdown",
   "id": "628d6048",
   "metadata": {},
   "source": [
    "The first thing we want to do is make the name all lowercase. We can use Python built-in [`lower()`](https://www.programiz.com/python-programming/methods/string/lower) function to do this:"
   ]
  },
  {
   "cell_type": "code",
   "execution_count": 3,
   "id": "bf999c3b",
   "metadata": {},
   "outputs": [
    {
     "data": {
      "text/plain": [
       "'building class category'"
      ]
     },
     "execution_count": 3,
     "metadata": {},
     "output_type": "execute_result"
    }
   ],
   "source": [
    "original.lower()"
   ]
  },
  {
   "cell_type": "markdown",
   "id": "33c1deae",
   "metadata": {},
   "source": [
    "Great! The next thing we need to do is replace spaces with underscores:"
   ]
  },
  {
   "cell_type": "code",
   "execution_count": 4,
   "id": "93936307",
   "metadata": {},
   "outputs": [
    {
     "data": {
      "text/plain": [
       "'building_class_category'"
      ]
     },
     "execution_count": 4,
     "metadata": {},
     "output_type": "execute_result"
    }
   ],
   "source": [
    "original.lower().replace(' ', '_')"
   ]
  },
  {
   "cell_type": "markdown",
   "id": "6b5788a7",
   "metadata": {},
   "source": [
    "We can now create a function out of this:"
   ]
  },
  {
   "cell_type": "code",
   "execution_count": 5,
   "id": "79c0abac",
   "metadata": {},
   "outputs": [
    {
     "data": {
      "text/plain": [
       "'building_class_category'"
      ]
     },
     "execution_count": 5,
     "metadata": {},
     "output_type": "execute_result"
    }
   ],
   "source": [
    "def clean_column_name(column):\n",
    "    return column.lower().replace(' ', '_')\n",
    "\n",
    "clean_column_name(original)"
   ]
  },
  {
   "cell_type": "markdown",
   "id": "3eec6afb",
   "metadata": {},
   "source": [
    "To apply this to ALL columns, we'll need to loop over each column name and apply our `clean_column_name()` function to it. Let's create a dictionary, `column_dict`, that maps our original column name to our new column name: \n",
    "\n",
    "\n",
    "```\n",
    "{ original_column_name : new_column_name }\n",
    "```"
   ]
  },
  {
   "cell_type": "code",
   "execution_count": 6,
   "id": "d4c551aa",
   "metadata": {},
   "outputs": [
    {
     "data": {
      "text/plain": [
       "{'BOROUGH': 'borough',\n",
       " 'NEIGHBORHOOD': 'neighborhood',\n",
       " 'BUILDING CLASS CATEGORY': 'building_class_category',\n",
       " 'TAX CLASS AT PRESENT': 'tax_class_at_present',\n",
       " 'BLOCK': 'block',\n",
       " 'LOT': 'lot',\n",
       " 'EASE-MENT': 'ease-ment',\n",
       " 'BUILDING CLASS AT PRESENT': 'building_class_at_present',\n",
       " 'ADDRESS': 'address',\n",
       " 'APARTMENT NUMBER': 'apartment_number',\n",
       " 'ZIP CODE': 'zip_code',\n",
       " 'RESIDENTIAL UNITS': 'residential_units',\n",
       " 'COMMERCIAL UNITS': 'commercial_units',\n",
       " 'TOTAL UNITS': 'total_units',\n",
       " 'LAND SQUARE FEET': 'land_square_feet',\n",
       " 'GROSS SQUARE FEET': 'gross_square_feet',\n",
       " 'YEAR BUILT': 'year_built',\n",
       " 'TAX CLASS AT TIME OF SALE': 'tax_class_at_time_of_sale',\n",
       " 'BUILDING CLASS AT TIME OF SALE': 'building_class_at_time_of_sale',\n",
       " 'SALE PRICE': 'sale_price',\n",
       " 'SALE DATE': 'sale_date'}"
      ]
     },
     "execution_count": 6,
     "metadata": {},
     "output_type": "execute_result"
    }
   ],
   "source": [
    "column_dict = dict()\n",
    "\n",
    "for c in df.columns:\n",
    "    column_dict[c] = clean_column_name(c)\n",
    "\n",
    "column_dict"
   ]
  },
  {
   "cell_type": "markdown",
   "id": "0c94ab13",
   "metadata": {},
   "source": [
    "Great! We can now overwrite original column names with the new column names using pandas' [`rename()`](https://pandas.pydata.org/docs/reference/api/pandas.DataFrame.rename.html) function. "
   ]
  },
  {
   "cell_type": "code",
   "execution_count": 7,
   "id": "8eb90292",
   "metadata": {},
   "outputs": [
    {
     "data": {
      "text/html": [
       "<div>\n",
       "<style scoped>\n",
       "    .dataframe tbody tr th:only-of-type {\n",
       "        vertical-align: middle;\n",
       "    }\n",
       "\n",
       "    .dataframe tbody tr th {\n",
       "        vertical-align: top;\n",
       "    }\n",
       "\n",
       "    .dataframe thead th {\n",
       "        text-align: right;\n",
       "    }\n",
       "</style>\n",
       "<table border=\"1\" class=\"dataframe\">\n",
       "  <thead>\n",
       "    <tr style=\"text-align: right;\">\n",
       "      <th></th>\n",
       "      <th>borough</th>\n",
       "      <th>neighborhood</th>\n",
       "      <th>building_class_category</th>\n",
       "      <th>tax_class_at_present</th>\n",
       "      <th>block</th>\n",
       "      <th>lot</th>\n",
       "      <th>ease-ment</th>\n",
       "      <th>building_class_at_present</th>\n",
       "      <th>address</th>\n",
       "      <th>apartment_number</th>\n",
       "      <th>...</th>\n",
       "      <th>residential_units</th>\n",
       "      <th>commercial_units</th>\n",
       "      <th>total_units</th>\n",
       "      <th>land_square_feet</th>\n",
       "      <th>gross_square_feet</th>\n",
       "      <th>year_built</th>\n",
       "      <th>tax_class_at_time_of_sale</th>\n",
       "      <th>building_class_at_time_of_sale</th>\n",
       "      <th>sale_price</th>\n",
       "      <th>sale_date</th>\n",
       "    </tr>\n",
       "  </thead>\n",
       "  <tbody>\n",
       "    <tr>\n",
       "      <th>47339</th>\n",
       "      <td>3</td>\n",
       "      <td>SUNSET PARK</td>\n",
       "      <td>09 COOPS - WALKUP APARTMENTS</td>\n",
       "      <td>2</td>\n",
       "      <td>750</td>\n",
       "      <td>5</td>\n",
       "      <td></td>\n",
       "      <td>C6</td>\n",
       "      <td>712 45TH STREET, 2D</td>\n",
       "      <td></td>\n",
       "      <td>...</td>\n",
       "      <td>0</td>\n",
       "      <td>0</td>\n",
       "      <td>0</td>\n",
       "      <td>0</td>\n",
       "      <td>0</td>\n",
       "      <td>1924</td>\n",
       "      <td>2</td>\n",
       "      <td>C6</td>\n",
       "      <td>395000</td>\n",
       "      <td>2016-09-27 00:00:00</td>\n",
       "    </tr>\n",
       "  </tbody>\n",
       "</table>\n",
       "<p>1 rows × 21 columns</p>\n",
       "</div>"
      ],
      "text/plain": [
       "       borough neighborhood                      building_class_category  \\\n",
       "47339        3  SUNSET PARK  09 COOPS - WALKUP APARTMENTS                  \n",
       "\n",
       "      tax_class_at_present  block  lot ease-ment building_class_at_present  \\\n",
       "47339                    2    750    5                                  C6   \n",
       "\n",
       "                   address apartment_number  ...  residential_units  \\\n",
       "47339  712 45TH STREET, 2D                   ...                  0   \n",
       "\n",
       "       commercial_units  total_units  land_square_feet gross_square_feet  \\\n",
       "47339                 0            0                 0                 0   \n",
       "\n",
       "      year_built  tax_class_at_time_of_sale  building_class_at_time_of_sale  \\\n",
       "47339       1924                          2                              C6   \n",
       "\n",
       "      sale_price            sale_date  \n",
       "47339     395000  2016-09-27 00:00:00  \n",
       "\n",
       "[1 rows x 21 columns]"
      ]
     },
     "execution_count": 7,
     "metadata": {},
     "output_type": "execute_result"
    }
   ],
   "source": [
    "df = df.rename(columns=column_dict)\n",
    "df.sample()"
   ]
  },
  {
   "cell_type": "markdown",
   "id": "f3aef945",
   "metadata": {},
   "source": [
    "Columns look great now! 🎉\n",
    "\n",
    "<img width=\"40%\" src=\"https://media.giphy.com/media/3otPom0tSP4zgfrakE/giphy.gif\"/>"
   ]
  },
  {
   "cell_type": "markdown",
   "id": "0eba8ca6",
   "metadata": {},
   "source": [
    "## 2) Dropping columns \n",
    "\n",
    "Our dataset has 21 columns but we won't be using all of them for our analysis. For example, for this specific exploration, we don't care so much about the following columns: \n",
    "\n",
    "- ease-ment \n",
    "- lot \n",
    "- block \n",
    "- tax_class_at_time_of_sale\n",
    "- tax_class_at_present\n",
    "\n",
    "We can remove these columns from our dataframe using the [`.drop()`](https://pandas.pydata.org/docs/reference/api/pandas.DataFrame.drop.html) function. With `.drop()`, you can choose to drop columns by specifying its index (numeric location in the datafarme) or column name. It's often easier to explicitly remove specific columns by name so let's do that. First, we need to create a list of the columns we want to remove: "
   ]
  },
  {
   "cell_type": "code",
   "execution_count": 8,
   "id": "2efae3e9",
   "metadata": {},
   "outputs": [],
   "source": [
    "columns_to_remove = ['ease-ment', 'lot', 'block', 'tax_class_at_present', 'tax_class_at_time_of_sale']"
   ]
  },
  {
   "cell_type": "markdown",
   "id": "0e502bd4",
   "metadata": {},
   "source": [
    "Now, we can drop these columns using the `.drop()` function:"
   ]
  },
  {
   "cell_type": "code",
   "execution_count": 9,
   "id": "1146e462",
   "metadata": {},
   "outputs": [],
   "source": [
    "df = df.drop(columns=columns_to_remove)"
   ]
  },
  {
   "cell_type": "markdown",
   "id": "36c62b8a",
   "metadata": {},
   "source": [
    "```{important}\n",
    "We're overwritting our dataframe with a new version that removes the 5 columns we don't need. If we try re-running this code, after having removed the columns, we'll get an error message that says: \n",
    "> KeyError: \"['ease-ment' 'lot' 'block' 'tax_class_at_present'\\n 'tax_class_at_time_of_sale'] not found in axis\"\n",
    "Make sure that you only drop a column once. Trying to drop a column that doesn't exist in yoru dataframe will cause your code to break. \n",
    "```"
   ]
  },
  {
   "cell_type": "markdown",
   "id": "e89f871a",
   "metadata": {},
   "source": [
    "Let's see how many columns are in our dataset now:"
   ]
  },
  {
   "cell_type": "code",
   "execution_count": 10,
   "id": "28c6ea32",
   "metadata": {},
   "outputs": [
    {
     "data": {
      "text/plain": [
       "(84548, 16)"
      ]
     },
     "execution_count": 10,
     "metadata": {},
     "output_type": "execute_result"
    }
   ],
   "source": [
    "df.shape"
   ]
  },
  {
   "cell_type": "markdown",
   "id": "0f2ca048",
   "metadata": {},
   "source": [
    "Awesome! Our dataframe went from 21 columns to 16 columns, which makes sense because we just removed 5 columns that we don't need."
   ]
  },
  {
   "cell_type": "markdown",
   "id": "a632c65f",
   "metadata": {},
   "source": [
    "## 3) Fixing column datatypes"
   ]
  },
  {
   "cell_type": "markdown",
   "id": "0c13c097",
   "metadata": {},
   "source": [
    "When we first load in a dataframe, it's very possible that column datatypes don't get loaded in correctly. For example, numerical columns get loaded in as \"object\" datatypes instead of integer/float. Datetime columns also get loaded in as a string (object) datatype by default so it's our responsibility to cast our column datatypes into their appropriate formats.\n",
    "\n",
    "Before we start fixing our datatype, let's quickly review what the possible datatypes are. You can also check out the pandas [datatype documentation](https://pandas.pydata.org/pandas-docs/stable/user_guide/basics.html#basics-dtypes) for more information. \n",
    "- `int64`: Whole number integer datatypes\n",
    "- `float64`: Floating number (fractional number, with decimal) datatypes\n",
    "- `bool`: True or False boolean datatypes \n",
    "- `object`: A \"catch-all\" datatype that usually represents a string datatype or contains a mix of more than one datatype (e.g., string + integer)\n",
    "\n",
    "\n",
    "Let's get a glimpse of our dataframe's datatypes:"
   ]
  },
  {
   "cell_type": "code",
   "execution_count": 11,
   "id": "5c332b90",
   "metadata": {},
   "outputs": [
    {
     "data": {
      "text/plain": [
       "borough                            int64\n",
       "neighborhood                      object\n",
       "building_class_category           object\n",
       "building_class_at_present         object\n",
       "address                           object\n",
       "apartment_number                  object\n",
       "zip_code                           int64\n",
       "residential_units                  int64\n",
       "commercial_units                   int64\n",
       "total_units                        int64\n",
       "land_square_feet                  object\n",
       "gross_square_feet                 object\n",
       "year_built                         int64\n",
       "building_class_at_time_of_sale    object\n",
       "sale_price                        object\n",
       "sale_date                         object\n",
       "dtype: object"
      ]
     },
     "execution_count": 11,
     "metadata": {},
     "output_type": "execute_result"
    }
   ],
   "source": [
    "df.dtypes"
   ]
  },
  {
   "cell_type": "markdown",
   "id": "5e69d842",
   "metadata": {},
   "source": [
    "There are several columns that are listed as \"object\" that I think could be integers or floats instead:\n",
    "\n",
    "- `land_square_feet`\n",
    "- `gross_square_feet`\n",
    "- `sale_price`\n",
    "\n",
    "To convert an object column into a float column, we can try the brute-force approach of `astype()`:\n",
    "\n",
    "```\n",
    "df['sale_price'].astype(float)\n",
    "```\n",
    "\n",
    "If you try this, you'll see that an error gets thrown:\n",
    "\n",
    "```\n",
    "ValueError: could not convert string to float: ' -  '\n",
    "```\n",
    "\n",
    "This indicates that there are some values in this `sale_price` column that cannot be convert to float. We'll have to handle these first before proceeding. Let's use the Pandas Series `.replace()` function to replace `' -  '` with `None` (to indicate a missing value).\n",
    "\n",
    "❗**String vs. Pandas `replace()` function**\n",
    "\n",
    "The string `replace()` function looks like this:\n",
    "\n",
    "```\n",
    "replace(current_value, new_value)\n",
    "```\n",
    "\n",
    "The syntax for Pandas `.replace()` is a bit different since it uses a dictionary instead:\n",
    "\n",
    "```\n",
    "replace({current_value: new_value})\n",
    "```\n",
    "\n",
    "Let's try it out on our dataset:"
   ]
  },
  {
   "cell_type": "code",
   "execution_count": 12,
   "id": "72d7b4d9",
   "metadata": {},
   "outputs": [
    {
     "data": {
      "text/plain": [
       "dtype('float64')"
      ]
     },
     "execution_count": 12,
     "metadata": {},
     "output_type": "execute_result"
    }
   ],
   "source": [
    "df['sale_price'] = df['sale_price'].replace({' -  ': None})\n",
    "df['sale_price'] = df['sale_price'].astype(float)\n",
    "df['sale_price'].dtype"
   ]
  },
  {
   "cell_type": "markdown",
   "id": "365fe7dd",
   "metadata": {},
   "source": [
    "After removing that weird hyphen string from our `sale_price` column, we were able to successfully cast our column to a float datatype. 🥳\n",
    "\n",
    "We can apply the same approach to the `land_square_feet` and `gross_square_feet` columns."
   ]
  },
  {
   "cell_type": "code",
   "execution_count": 13,
   "id": "fbb093bd",
   "metadata": {},
   "outputs": [],
   "source": [
    "df['land_square_feet'] = df['land_square_feet'].replace({' -  ': None}).astype(float)\n",
    "df['gross_square_feet'] = df['gross_square_feet'].replace({' -  ': None}).astype(float)"
   ]
  },
  {
   "cell_type": "markdown",
   "id": "0e6497c5",
   "metadata": {},
   "source": [
    "Now, the last column that we should fix is the `sale_date` column. It's default datatype is \"object\" but we can convert this to a datetime datatype using pandas' [`to_datetime()`](https://pandas.pydata.org/docs/reference/api/pandas.to_datetime.html) function"
   ]
  },
  {
   "cell_type": "code",
   "execution_count": 14,
   "id": "576c2cf6",
   "metadata": {},
   "outputs": [
    {
     "data": {
      "text/plain": [
       "dtype('<M8[ns]')"
      ]
     },
     "execution_count": 14,
     "metadata": {},
     "output_type": "execute_result"
    }
   ],
   "source": [
    "df['sale_date'] = pd.to_datetime(df['sale_date'])\n",
    "df['sale_date'].dtype"
   ]
  },
  {
   "cell_type": "markdown",
   "id": "3390ab8f",
   "metadata": {},
   "source": [
    "After applying `to_datetime()`, we can see that the `sale_date` column's datatype is now `'<M8[ns]'` which is a datetime datatype. "
   ]
  },
  {
   "cell_type": "markdown",
   "id": "7408ff38",
   "metadata": {},
   "source": [
    "## 4) Handling Missing Values\n",
    "\n",
    "Remember in Chapter 2 when we thought that our data didn't have any missing values? This is no longer the case after cleaning our data. We know that the following columns have missing values:\n",
    "\n",
    "- sale_price\n",
    "- land_square_feet\n",
    "- gross_square_feet\n",
    "\n",
    "Let's re-assess how many missing values we're dealing with.\n",
    "\n",
    "<img src=\"https://media.giphy.com/media/NS7gPxeumewkWDOIxi/giphy.gif\"/>"
   ]
  },
  {
   "cell_type": "markdown",
   "id": "c8398cfc",
   "metadata": {},
   "source": [
    "How many missing values are we dealing with for each column in our dataframe?"
   ]
  },
  {
   "cell_type": "code",
   "execution_count": 15,
   "id": "f601a5f2",
   "metadata": {},
   "outputs": [
    {
     "data": {
      "text/plain": [
       "borough                               0\n",
       "neighborhood                          0\n",
       "building_class_category               0\n",
       "building_class_at_present             0\n",
       "address                               0\n",
       "apartment_number                      0\n",
       "zip_code                              0\n",
       "residential_units                     0\n",
       "commercial_units                      0\n",
       "total_units                           0\n",
       "land_square_feet                  26252\n",
       "gross_square_feet                 27612\n",
       "year_built                            0\n",
       "building_class_at_time_of_sale        0\n",
       "sale_price                        14561\n",
       "sale_date                             0\n",
       "dtype: int64"
      ]
     },
     "execution_count": 15,
     "metadata": {},
     "output_type": "execute_result"
    }
   ],
   "source": [
    "df.isnull().sum()"
   ]
  },
  {
   "cell_type": "markdown",
   "id": "968b37e7",
   "metadata": {},
   "source": [
    "Wow! We can see that there are more missing values for the square footage columns as compared to the sale price column. Let's check out what percentage of values are missing for each column. We can do this by simply dividing the missing value count for each column by the total number of rows in our dataframe:"
   ]
  },
  {
   "cell_type": "code",
   "execution_count": 16,
   "id": "ee34b781",
   "metadata": {},
   "outputs": [
    {
     "data": {
      "text/plain": [
       "borough                           0.000000\n",
       "neighborhood                      0.000000\n",
       "building_class_category           0.000000\n",
       "building_class_at_present         0.000000\n",
       "address                           0.000000\n",
       "apartment_number                  0.000000\n",
       "zip_code                          0.000000\n",
       "residential_units                 0.000000\n",
       "commercial_units                  0.000000\n",
       "total_units                       0.000000\n",
       "land_square_feet                  0.310498\n",
       "gross_square_feet                 0.326584\n",
       "year_built                        0.000000\n",
       "building_class_at_time_of_sale    0.000000\n",
       "sale_price                        0.172222\n",
       "sale_date                         0.000000\n",
       "dtype: float64"
      ]
     },
     "execution_count": 16,
     "metadata": {},
     "output_type": "execute_result"
    }
   ],
   "source": [
    "df.isnull().sum() / len(df)"
   ]
  },
  {
   "cell_type": "markdown",
   "id": "33fb1d0c",
   "metadata": {},
   "source": [
    "Over 30% of properties don't have square footage data, while 17% of properties don't have sale price. \n",
    "\n",
    "An interesting thing to know is which rows have missing values. Ideally, the missing values are occuring in the same properties:"
   ]
  },
  {
   "cell_type": "code",
   "execution_count": 17,
   "id": "cd3aeafb",
   "metadata": {},
   "outputs": [
    {
     "data": {
      "text/plain": [
       "<AxesSubplot:>"
      ]
     },
     "execution_count": 17,
     "metadata": {},
     "output_type": "execute_result"
    },
    {
     "data": {
      "image/png": "[encoded data removed]",
      "text/plain": [
       "<Figure size 1800x720 with 2 Axes>"
      ]
     },
     "metadata": {
      "needs_background": "light"
     },
     "output_type": "display_data"
    }
   ],
   "source": [
    "import missingno as msno\n",
    "\n",
    "msno.matrix(df)"
   ]
  },
  {
   "cell_type": "markdown",
   "id": "1b6bc8e6",
   "metadata": {},
   "source": [
    "The missing value matrix shows that missing values across the 3 columns are indeed correlated as they apear to affect the same properties. "
   ]
  },
  {
   "cell_type": "code",
   "execution_count": 18,
   "id": "03507f44",
   "metadata": {},
   "outputs": [],
   "source": [
    "df = df.dropna(subset=['sale_price'])"
   ]
  },
  {
   "cell_type": "markdown",
   "id": "255ee33f",
   "metadata": {},
   "source": [
    "## 5) Subsetting the data\n",
    "\n",
    "Now that we have properly formatted column names and our columns are represented in their appropriate datatypes, we can start to explore our data and check to see if the data values make sense. If the data *doesn't* make sense, we can subset our dataframe to only include data that fits within a reasonable range. This process is called **subsetting** the data. \n",
    "\n",
    "It's definitely more of an art than a science, and requires having some context about your data in order to evaluate what makes sense. Let's give this a try with our dataframe. \n",
    "\n",
    "We'll focus on the column `year_built` column and see if the numbers make sense. According to [this source](https://ny.curbed.com/maps/nyc-oldest-buildings-houses-map), the oldest building in New York City was built around the 1650s so any building that was built before this time is probably not accurate. \n",
    "\n",
    "What's the minimum `year_built` in our dataset?"
   ]
  },
  {
   "cell_type": "code",
   "execution_count": 19,
   "id": "d8c477ee",
   "metadata": {},
   "outputs": [
    {
     "data": {
      "text/plain": [
       "0"
      ]
     },
     "execution_count": 19,
     "metadata": {},
     "output_type": "execute_result"
    }
   ],
   "source": [
    "df['year_built'].min()"
   ]
  },
  {
   "cell_type": "markdown",
   "id": "22a6acde",
   "metadata": {},
   "source": [
    "\"0\" years?! This does not make any sense. Let's drop this from our dataset. In order to do this, we need to create a subset of our dataframe that only includes rows that have `year_built` over 1650. \n",
    "\n",
    "We can leverage the boolean comparison operator to do this. "
   ]
  },
  {
   "cell_type": "code",
   "execution_count": 20,
   "id": "1e37c551",
   "metadata": {},
   "outputs": [
    {
     "data": {
      "text/plain": [
       "0        True\n",
       "3        True\n",
       "4        True\n",
       "6        True\n",
       "9        True\n",
       "         ... \n",
       "84543    True\n",
       "84544    True\n",
       "84545    True\n",
       "84546    True\n",
       "84547    True\n",
       "Name: year_built, Length: 69987, dtype: bool"
      ]
     },
     "execution_count": 20,
     "metadata": {},
     "output_type": "execute_result"
    }
   ],
   "source": [
    "df['year_built'] > 1650"
   ]
  },
  {
   "cell_type": "markdown",
   "id": "77fa25b1",
   "metadata": {},
   "source": [
    "The boolean logic above asks the question: \n",
    "\n",
    "> Is this property's `year_built` above 1650? \n",
    "\n",
    "If the answer is yes, it returns \"True\". If no, then it returns \"False\". If we wrap this logic into our dataframe, we'll end up with a subset of our original dataframe that only keeps the rows where the boolean condition is True \n",
    "(`year_built` is greater than 1650).\n",
    "\n",
    "<img width=\"60%\" src=\"https://practicalpython.s3.us-east-2.amazonaws.com/assets/boolean_logic.png\"/>\n",
    "\n",
    "Let's create the subset of our dataframe and assign it a new variable name, `df_filtered`."
   ]
  },
  {
   "cell_type": "code",
   "execution_count": 21,
   "id": "7d8de34c",
   "metadata": {},
   "outputs": [],
   "source": [
    "df_filtered = df[df['year_built'] > 1650]"
   ]
  },
  {
   "cell_type": "markdown",
   "id": "f6a7b266",
   "metadata": {},
   "source": [
    "How many rows do we have now? We can use the `len()` function to the count number of rows. \n",
    "\n",
    "> Alternatively, we could also use `df.shape`, which returns `(n_rows, n_columns)` and take the first element of the tuple."
   ]
  },
  {
   "cell_type": "code",
   "execution_count": 22,
   "id": "df3aad43",
   "metadata": {},
   "outputs": [
    {
     "data": {
      "text/plain": [
       "64595"
      ]
     },
     "execution_count": 22,
     "metadata": {},
     "output_type": "execute_result"
    }
   ],
   "source": [
    "len(df_filtered)"
   ]
  },
  {
   "cell_type": "markdown",
   "id": "dfa53147",
   "metadata": {},
   "source": [
    "How many rows did we remove? We can find out by subscracting the number of rows of our original dataframe from the rows of our filtered dataframe. "
   ]
  },
  {
   "cell_type": "code",
   "execution_count": 23,
   "id": "aa1c3e62",
   "metadata": {},
   "outputs": [
    {
     "name": "stdout",
     "output_type": "stream",
     "text": [
      "We removed 5392 rows!\n"
     ]
    }
   ],
   "source": [
    "print(f\"We removed {len(df) - len(df_filtered)} rows!\")"
   ]
  },
  {
   "cell_type": "markdown",
   "id": "e008d75a",
   "metadata": {},
   "source": [
    "Wow! We removed almost 7K rows - that is a pretty significant number of properties that had `year_built` below 1650.\n",
    "\n",
    "Let's take a look at the new lower `year_built` value in our filtered dataframe."
   ]
  },
  {
   "cell_type": "code",
   "execution_count": 24,
   "id": "e2e3dc5a",
   "metadata": {},
   "outputs": [
    {
     "data": {
      "text/plain": [
       "1800"
      ]
     },
     "execution_count": 24,
     "metadata": {},
     "output_type": "execute_result"
    }
   ],
   "source": [
    "df_filtered['year_built'].min()"
   ]
  },
  {
   "cell_type": "markdown",
   "id": "cce7ce9b",
   "metadata": {},
   "source": [
    "This minimum value makes much more sense. \n",
    "\n",
    "<img src=\"https://media.giphy.com/media/IwAZ6dvvvaTtdI8SD5/giphy.gif\"/>"
   ]
  },
  {
   "cell_type": "markdown",
   "id": "05872b5d",
   "metadata": {},
   "source": [
    "## 6) Recoding column values"
   ]
  },
  {
   "cell_type": "markdown",
   "id": "c91ca6f7",
   "metadata": {},
   "source": [
    "Since we're dealing with New York City properties, it's important to make sure we have a column that represents which borough the property is located in. This `borough` column will be very important for our analysis because property value can vary greatly based on the borough that it's in. For example, we would expect the median price of a property is very different in Manhattan as compared to Staten Island. "
   ]
  },
  {
   "cell_type": "code",
   "execution_count": 25,
   "id": "a4eb2176",
   "metadata": {},
   "outputs": [
    {
     "data": {
      "text/plain": [
       "array([1, 2, 3, 4, 5])"
      ]
     },
     "execution_count": 25,
     "metadata": {},
     "output_type": "execute_result"
    }
   ],
   "source": [
    "df_filtered['borough'].unique()"
   ]
  },
  {
   "cell_type": "markdown",
   "id": "63500a9a",
   "metadata": {},
   "source": [
    "The Kaggle description explains how the borough column is encoded:\n",
    "\n",
    "> A digit code for the borough the property is located in; in order these are Manhattan (1), Bronx (2), Brooklyn (3), Queens (4), and Staten Island (5).\n",
    "\n",
    "Let's recode the borough column into human-readable names instead of using the coded numbers. We can do this using pandas' [`replace()`](https://pandas.pydata.org/docs/reference/api/pandas.DataFrame.replace.html) function. The first thing we need to do is create a dictionary that maps our numerical values to the appropriate borough names."
   ]
  },
  {
   "cell_type": "code",
   "execution_count": 26,
   "id": "544a21f4",
   "metadata": {},
   "outputs": [],
   "source": [
    "boroughs_dict = {\n",
    "    1: 'Manhattan',\n",
    "    2: 'Bronx',\n",
    "    3: 'Brooklyn',\n",
    "    4: 'Queens',\n",
    "    5: 'Staten Island'\n",
    "}"
   ]
  },
  {
   "cell_type": "markdown",
   "id": "471a2b7a",
   "metadata": {},
   "source": [
    "We can now apply `replace()` to our dataframe and pass the `boroughs_dict` inside of it."
   ]
  },
  {
   "cell_type": "code",
   "execution_count": 27,
   "id": "6bf87788",
   "metadata": {},
   "outputs": [
    {
     "name": "stderr",
     "output_type": "stream",
     "text": [
      "/var/folders/c6/66vf07tn12b7f11fct15gggm0000gn/T/ipykernel_91911/1217914364.py:1: SettingWithCopyWarning: \n",
      "A value is trying to be set on a copy of a slice from a DataFrame.\n",
      "Try using .loc[row_indexer,col_indexer] = value instead\n",
      "\n",
      "See the caveats in the documentation: https://pandas.pydata.org/pandas-docs/stable/user_guide/indexing.html#returning-a-view-versus-a-copy\n",
      "  df_filtered['borough'] =  df_filtered['borough'].replace(boroughs_dict)\n"
     ]
    }
   ],
   "source": [
    "df_filtered['borough'] =  df_filtered['borough'].replace(boroughs_dict)"
   ]
  },
  {
   "cell_type": "markdown",
   "id": "53c9ef61",
   "metadata": {},
   "source": [
    "How do the new borough values look?"
   ]
  },
  {
   "cell_type": "code",
   "execution_count": 28,
   "id": "72b099cd",
   "metadata": {},
   "outputs": [
    {
     "data": {
      "text/plain": [
       "array(['Manhattan', 'Bronx', 'Brooklyn', 'Queens', 'Staten Island'],\n",
       "      dtype=object)"
      ]
     },
     "execution_count": 28,
     "metadata": {},
     "output_type": "execute_result"
    }
   ],
   "source": [
    "df_filtered['borough'].unique()"
   ]
  },
  {
   "cell_type": "markdown",
   "id": "b4f83056",
   "metadata": {},
   "source": [
    "Awesome! We've successfully recoded our borough column into human-readable values."
   ]
  },
  {
   "cell_type": "markdown",
   "id": "e21b5f9f",
   "metadata": {},
   "source": [
    "## 7) Formatting column values\n",
    "\n",
    "While not absolutely necessary, it's nice to clean up and re-format the values of string columns. These small adjustments can make it easier to interpret our results when we analyze our data. In this section, we will clean up 2 columns: \n",
    "\n",
    "- `neighborhood`\n",
    "- `building_class_category`\n",
    "\n",
    "Let's see how they look:"
   ]
  },
  {
   "cell_type": "code",
   "execution_count": 29,
   "id": "13aa39f3",
   "metadata": {},
   "outputs": [
    {
     "data": {
      "text/html": [
       "<div>\n",
       "<style scoped>\n",
       "    .dataframe tbody tr th:only-of-type {\n",
       "        vertical-align: middle;\n",
       "    }\n",
       "\n",
       "    .dataframe tbody tr th {\n",
       "        vertical-align: top;\n",
       "    }\n",
       "\n",
       "    .dataframe thead th {\n",
       "        text-align: right;\n",
       "    }\n",
       "</style>\n",
       "<table border=\"1\" class=\"dataframe\">\n",
       "  <thead>\n",
       "    <tr style=\"text-align: right;\">\n",
       "      <th></th>\n",
       "      <th>neighborhood</th>\n",
       "      <th>building_class_category</th>\n",
       "    </tr>\n",
       "  </thead>\n",
       "  <tbody>\n",
       "    <tr>\n",
       "      <th>59754</th>\n",
       "      <td>FLUSHING-SOUTH</td>\n",
       "      <td>09 COOPS - WALKUP APARTMENTS</td>\n",
       "    </tr>\n",
       "    <tr>\n",
       "      <th>6366</th>\n",
       "      <td>KIPS BAY</td>\n",
       "      <td>10 COOPS - ELEVATOR APARTMENTS</td>\n",
       "    </tr>\n",
       "    <tr>\n",
       "      <th>67687</th>\n",
       "      <td>OAKLAND GARDENS</td>\n",
       "      <td>01 ONE FAMILY DWELLINGS</td>\n",
       "    </tr>\n",
       "    <tr>\n",
       "      <th>46546</th>\n",
       "      <td>SHEEPSHEAD BAY</td>\n",
       "      <td>12 CONDOS - WALKUP APARTMENTS</td>\n",
       "    </tr>\n",
       "    <tr>\n",
       "      <th>21794</th>\n",
       "      <td>MOUNT HOPE/MOUNT EDEN</td>\n",
       "      <td>01 ONE FAMILY DWELLINGS</td>\n",
       "    </tr>\n",
       "  </tbody>\n",
       "</table>\n",
       "</div>"
      ],
      "text/plain": [
       "                neighborhood                      building_class_category\n",
       "59754         FLUSHING-SOUTH  09 COOPS - WALKUP APARTMENTS               \n",
       "6366                KIPS BAY  10 COOPS - ELEVATOR APARTMENTS             \n",
       "67687        OAKLAND GARDENS  01 ONE FAMILY DWELLINGS                    \n",
       "46546         SHEEPSHEAD BAY  12 CONDOS - WALKUP APARTMENTS              \n",
       "21794  MOUNT HOPE/MOUNT EDEN  01 ONE FAMILY DWELLINGS                    "
      ]
     },
     "execution_count": 29,
     "metadata": {},
     "output_type": "execute_result"
    }
   ],
   "source": [
    "df_filtered[['neighborhood', 'building_class_category']].sample(5)"
   ]
  },
  {
   "cell_type": "markdown",
   "id": "fbbbdfbd",
   "metadata": {},
   "source": [
    "### Neighborhood\n",
    "\n",
    "The `neighborhood` column is currently all uppercase. We want to modify it so that the first letter of each word is uppercase and the rest is lowercase. To do this, there are 2 options we can consider: \n",
    "\n",
    "1. `title()`\n",
    "2. `capitalize()` "
   ]
  },
  {
   "cell_type": "code",
   "execution_count": 30,
   "id": "3fd98895",
   "metadata": {},
   "outputs": [
    {
     "name": "stdout",
     "output_type": "stream",
     "text": [
      "neighborhood.title() : Alphabet City\n",
      "neighborhood.capitalize() : Alphabet city\n"
     ]
    }
   ],
   "source": [
    "neighborhood = 'ALPHABET CITY'\n",
    "\n",
    "print(f\"neighborhood.title() : {neighborhood.title()}\")\n",
    "print(f\"neighborhood.capitalize() : {neighborhood.capitalize()}\")"
   ]
  },
  {
   "cell_type": "markdown",
   "id": "d19ad72f",
   "metadata": {},
   "source": [
    "What's the difference?! Well, for the astute observers, you may have noticed that `title()` capitalizes the first letter of every word in the string while `capitalize()` capitalizes the first letter of the entire string. Since we're dealing with the names of neighborhoods, we want to use `title()`.\n",
    "\n",
    "Let's use `apply()` function to apply `title()` to each row in our dataframe. We can do this by applying an anoynmous/lambda function.\n",
    "\n",
    "#### What is an anonymous function? \n",
    "\n",
    "It's a one-liner function without a name. Unlike traditional functions in Python that use `def` followed by the function name, an anonymous function uses the `lambda` keyword. It's useful when we only need to use the function once. This is how the syntax looks:"
   ]
  },
  {
   "cell_type": "code",
   "execution_count": 31,
   "id": "df8a1b78",
   "metadata": {},
   "outputs": [
    {
     "name": "stderr",
     "output_type": "stream",
     "text": [
      "/var/folders/c6/66vf07tn12b7f11fct15gggm0000gn/T/ipykernel_91911/2317548855.py:1: SettingWithCopyWarning: \n",
      "A value is trying to be set on a copy of a slice from a DataFrame.\n",
      "Try using .loc[row_indexer,col_indexer] = value instead\n",
      "\n",
      "See the caveats in the documentation: https://pandas.pydata.org/pandas-docs/stable/user_guide/indexing.html#returning-a-view-versus-a-copy\n",
      "  df_filtered['neighborhood'] = df_filtered['neighborhood'].apply(lambda x: x.title())\n"
     ]
    }
   ],
   "source": [
    "df_filtered['neighborhood'] = df_filtered['neighborhood'].apply(lambda x: x.title())"
   ]
  },
  {
   "cell_type": "markdown",
   "id": "e316d774",
   "metadata": {},
   "source": [
    "With the code above, we're basically looking at each row of the `neighborhood` column, and applying \"`title()`\" to the row value. We don't need to do any for-loops - the `apply()` iterates through each value for us. \n",
    "\n",
    "Let's check out the output of our newly formatted `neighborhood` column:"
   ]
  },
  {
   "cell_type": "code",
   "execution_count": 32,
   "id": "d6287306",
   "metadata": {},
   "outputs": [
    {
     "data": {
      "text/plain": [
       "41535             Madison\n",
       "38337       Flatbush-East\n",
       "8080         Midtown East\n",
       "78066          Grant City\n",
       "37530    Flatbush-Central\n",
       "Name: neighborhood, dtype: object"
      ]
     },
     "execution_count": 32,
     "metadata": {},
     "output_type": "execute_result"
    }
   ],
   "source": [
    "df_filtered['neighborhood'].sample(5)"
   ]
  },
  {
   "cell_type": "markdown",
   "id": "442846ff",
   "metadata": {},
   "source": [
    "The neighborhood values look so much better after applying `title()`. "
   ]
  },
  {
   "cell_type": "markdown",
   "id": "4502f2b8",
   "metadata": {},
   "source": [
    "### Building Class Category\n",
    "\n",
    "Now, let's move onto the `building_class_category` which is a bit more complicated to format. We want to make 2 modifications to this column:\n",
    "\n",
    "1. remove the number at start of the name \n",
    "2. capitalize the string value\n",
    "\n",
    "Since this is a two-step process, we'll create a real function instead of an anonymous one like we did for the `neighborhood` column.\n",
    "\n",
    "It's easier if we break this down into steps so let's start by splitting the `building_class_category` string into a list:"
   ]
  },
  {
   "cell_type": "code",
   "execution_count": 33,
   "id": "9d8bebda",
   "metadata": {},
   "outputs": [
    {
     "data": {
      "text/plain": [
       "['07', 'RENTALS', '-', 'WALKUP', 'APARTMENTS']"
      ]
     },
     "execution_count": 33,
     "metadata": {},
     "output_type": "execute_result"
    }
   ],
   "source": [
    "building_class_category = '07 RENTALS - WALKUP APARTMENTS'\n",
    "\n",
    "building_class_category_list = building_class_category.split(' ')\n",
    "building_class_category_list"
   ]
  },
  {
   "cell_type": "markdown",
   "id": "c011af7b",
   "metadata": {},
   "source": [
    "We want to remove the first element of the output above. We can do this by slicing the list to start at index 1 instead of index 0:"
   ]
  },
  {
   "cell_type": "code",
   "execution_count": 34,
   "id": "d0f52264",
   "metadata": {},
   "outputs": [
    {
     "data": {
      "text/plain": [
       "['RENTALS', '-', 'WALKUP', 'APARTMENTS']"
      ]
     },
     "execution_count": 34,
     "metadata": {},
     "output_type": "execute_result"
    }
   ],
   "source": [
    "building_class_category_list[1:]"
   ]
  },
  {
   "cell_type": "markdown",
   "id": "314333fe",
   "metadata": {},
   "source": [
    "Woohoo! We can now rejoin the list into a single string:"
   ]
  },
  {
   "cell_type": "code",
   "execution_count": 35,
   "id": "6468c7ff",
   "metadata": {},
   "outputs": [
    {
     "data": {
      "text/plain": [
       "'RENTALS - WALKUP APARTMENTS'"
      ]
     },
     "execution_count": 35,
     "metadata": {},
     "output_type": "execute_result"
    }
   ],
   "source": [
    "' '.join(building_class_category_list[1:])"
   ]
  },
  {
   "cell_type": "markdown",
   "id": "662924f8",
   "metadata": {},
   "source": [
    "Lastly, we can convert the string from uppercase to a capitalized version like this:"
   ]
  },
  {
   "cell_type": "code",
   "execution_count": 36,
   "id": "6fb5f151",
   "metadata": {},
   "outputs": [
    {
     "data": {
      "text/plain": [
       "'Rentals - walkup apartments'"
      ]
     },
     "execution_count": 36,
     "metadata": {},
     "output_type": "execute_result"
    }
   ],
   "source": [
    "' '.join(building_class_category_list[1:]).capitalize()"
   ]
  },
  {
   "cell_type": "markdown",
   "id": "56d2a484",
   "metadata": {},
   "source": [
    "Let's combine all this logic into one function:"
   ]
  },
  {
   "cell_type": "code",
   "execution_count": 37,
   "id": "d14432f4",
   "metadata": {},
   "outputs": [
    {
     "data": {
      "text/plain": [
       "'Rentals - walkup apartments'"
      ]
     },
     "execution_count": 37,
     "metadata": {},
     "output_type": "execute_result"
    }
   ],
   "source": [
    "def format_building_class_category(text):\n",
    "    text_list = text.split(' ')\n",
    "    clean_text = ' '.join(text_list[1:])\n",
    "    clean_text_capitalized = clean_text.capitalize()\n",
    "    return clean_text_capitalized.capitalize()\n",
    "\n",
    "format_building_class_category(building_class_category)"
   ]
  },
  {
   "cell_type": "markdown",
   "id": "d4f453de",
   "metadata": {},
   "source": [
    "Now, we can apply this function to every row in the `building_class_category` column."
   ]
  },
  {
   "cell_type": "code",
   "execution_count": 38,
   "id": "c8f42081",
   "metadata": {},
   "outputs": [
    {
     "name": "stderr",
     "output_type": "stream",
     "text": [
      "/var/folders/c6/66vf07tn12b7f11fct15gggm0000gn/T/ipykernel_91911/1079090973.py:1: SettingWithCopyWarning: \n",
      "A value is trying to be set on a copy of a slice from a DataFrame.\n",
      "Try using .loc[row_indexer,col_indexer] = value instead\n",
      "\n",
      "See the caveats in the documentation: https://pandas.pydata.org/pandas-docs/stable/user_guide/indexing.html#returning-a-view-versus-a-copy\n",
      "  df_filtered['building_class_category'] = df_filtered['building_class_category'].apply(format_building_class_category)\n"
     ]
    }
   ],
   "source": [
    "df_filtered['building_class_category'] = df_filtered['building_class_category'].apply(format_building_class_category)"
   ]
  },
  {
   "cell_type": "code",
   "execution_count": 39,
   "id": "a0c0b1d8",
   "metadata": {},
   "outputs": [
    {
     "data": {
      "text/plain": [
       "'Rentals - walkup apartments             '"
      ]
     },
     "execution_count": 39,
     "metadata": {},
     "output_type": "execute_result"
    }
   ],
   "source": [
    "df_filtered['building_class_category'][0]"
   ]
  },
  {
   "cell_type": "markdown",
   "id": "30db2f71",
   "metadata": {},
   "source": [
    "Hmmm 🤔. It looks like this column has a lot of trailing whitespace. We can fix this by applying the `strip()` function which is meant to remove any whitespace on the left or right side of a string."
   ]
  },
  {
   "cell_type": "code",
   "execution_count": 40,
   "id": "2a0350d9",
   "metadata": {},
   "outputs": [
    {
     "data": {
      "text/plain": [
       "'Rentals - walkup apartments'"
      ]
     },
     "execution_count": 40,
     "metadata": {},
     "output_type": "execute_result"
    }
   ],
   "source": [
    "df_filtered['building_class_category'][0].strip()"
   ]
  },
  {
   "cell_type": "markdown",
   "id": "56842695",
   "metadata": {},
   "source": [
    "Looks good! Let's apply this to all of our column values by applying the lambda function. "
   ]
  },
  {
   "cell_type": "code",
   "execution_count": 41,
   "id": "1f6595c0",
   "metadata": {},
   "outputs": [
    {
     "name": "stderr",
     "output_type": "stream",
     "text": [
      "/var/folders/c6/66vf07tn12b7f11fct15gggm0000gn/T/ipykernel_91911/2294236723.py:1: SettingWithCopyWarning: \n",
      "A value is trying to be set on a copy of a slice from a DataFrame.\n",
      "Try using .loc[row_indexer,col_indexer] = value instead\n",
      "\n",
      "See the caveats in the documentation: https://pandas.pydata.org/pandas-docs/stable/user_guide/indexing.html#returning-a-view-versus-a-copy\n",
      "  df_filtered['building_class_category'] = df_filtered['building_class_category'].apply(lambda x: x.strip())\n"
     ]
    }
   ],
   "source": [
    "df_filtered['building_class_category'] = df_filtered['building_class_category'].apply(lambda x: x.strip())"
   ]
  },
  {
   "cell_type": "markdown",
   "id": "69963699",
   "metadata": {},
   "source": [
    "How does it look?"
   ]
  },
  {
   "cell_type": "code",
   "execution_count": 42,
   "id": "52d8d220",
   "metadata": {},
   "outputs": [
    {
     "data": {
      "text/plain": [
       "'Rentals - walkup apartments'"
      ]
     },
     "execution_count": 42,
     "metadata": {},
     "output_type": "execute_result"
    }
   ],
   "source": [
    "df_filtered['building_class_category'][0]"
   ]
  },
  {
   "cell_type": "markdown",
   "id": "d30e4e4a",
   "metadata": {},
   "source": [
    "Just as expected - our newly formatted `building_class_category` column has the prefixed number removed, is capitalized (instead of all uppercase) and doesn't have any trailing whitespace. "
   ]
  },
  {
   "cell_type": "markdown",
   "id": "c980a2ba",
   "metadata": {},
   "source": [
    "## 8) Merging dataframes together"
   ]
  },
  {
   "cell_type": "markdown",
   "id": "4221fe65",
   "metadata": {},
   "source": [
    "If two datasets have a shared column, you can combine them together to create a more robust dataset. In SQL, this is done using the **JOIN** statement. With Pandas, this is done using the [**`.merge()`**](https://pandas.pydata.org/docs/reference/api/pandas.merge.html) function. \n",
    "\n",
    "Let's see how this works with our particular dataset. You may noticed that we have two columns that represent building class codes:\n",
    "\n",
    "1. `building_class_at_present` \n",
    "2. `building_class_at_time_of_sale`"
   ]
  },
  {
   "cell_type": "code",
   "execution_count": 43,
   "id": "b676e9ec",
   "metadata": {},
   "outputs": [
    {
     "data": {
      "text/html": [
       "<div>\n",
       "<style scoped>\n",
       "    .dataframe tbody tr th:only-of-type {\n",
       "        vertical-align: middle;\n",
       "    }\n",
       "\n",
       "    .dataframe tbody tr th {\n",
       "        vertical-align: top;\n",
       "    }\n",
       "\n",
       "    .dataframe thead th {\n",
       "        text-align: right;\n",
       "    }\n",
       "</style>\n",
       "<table border=\"1\" class=\"dataframe\">\n",
       "  <thead>\n",
       "    <tr style=\"text-align: right;\">\n",
       "      <th></th>\n",
       "      <th>building_class_at_present</th>\n",
       "      <th>building_class_at_time_of_sale</th>\n",
       "    </tr>\n",
       "  </thead>\n",
       "  <tbody>\n",
       "    <tr>\n",
       "      <th>0</th>\n",
       "      <td>C2</td>\n",
       "      <td>C2</td>\n",
       "    </tr>\n",
       "    <tr>\n",
       "      <th>3</th>\n",
       "      <td>C4</td>\n",
       "      <td>C4</td>\n",
       "    </tr>\n",
       "    <tr>\n",
       "      <th>4</th>\n",
       "      <td>C2</td>\n",
       "      <td>C2</td>\n",
       "    </tr>\n",
       "    <tr>\n",
       "      <th>6</th>\n",
       "      <td>C4</td>\n",
       "      <td>C4</td>\n",
       "    </tr>\n",
       "    <tr>\n",
       "      <th>9</th>\n",
       "      <td>D9</td>\n",
       "      <td>D9</td>\n",
       "    </tr>\n",
       "  </tbody>\n",
       "</table>\n",
       "</div>"
      ],
      "text/plain": [
       "  building_class_at_present building_class_at_time_of_sale\n",
       "0                        C2                             C2\n",
       "3                        C4                             C4\n",
       "4                        C2                             C2\n",
       "6                        C4                             C4\n",
       "9                        D9                             D9"
      ]
     },
     "execution_count": 43,
     "metadata": {},
     "output_type": "execute_result"
    }
   ],
   "source": [
    "df[['building_class_at_present', 'building_class_at_time_of_sale']].head()"
   ]
  },
  {
   "cell_type": "markdown",
   "id": "e16266bc",
   "metadata": {},
   "source": [
    "These building class codes have a corresponding description, which is documented in this [City of NYC building code glossary](https://www1.nyc.gov/assets/finance/jump/hlpbldgcode.html). We have this stored in a psv (pipe-separated value) file which we can load in using pandas' `read_csv()` function. Let's name this new dataframe `building_code_description`.\n",
    "\n",
    "```{note}\n",
    "Unlike the csv file, where values are separated by commas, the pipe-separate value (psv) file is separated by the pipe, `|`. By default, pandas' `read_csv()` function assumes the separator is a comma. We will need to specify that the separator is a pipe, `|` using the `sep` argument.\n",
    "```"
   ]
  },
  {
   "cell_type": "code",
   "execution_count": 44,
   "id": "b0329ec0",
   "metadata": {},
   "outputs": [
    {
     "data": {
      "text/html": [
       "<div>\n",
       "<style scoped>\n",
       "    .dataframe tbody tr th:only-of-type {\n",
       "        vertical-align: middle;\n",
       "    }\n",
       "\n",
       "    .dataframe tbody tr th {\n",
       "        vertical-align: top;\n",
       "    }\n",
       "\n",
       "    .dataframe thead th {\n",
       "        text-align: right;\n",
       "    }\n",
       "</style>\n",
       "<table border=\"1\" class=\"dataframe\">\n",
       "  <thead>\n",
       "    <tr style=\"text-align: right;\">\n",
       "      <th></th>\n",
       "      <th>building_class_code</th>\n",
       "      <th>description</th>\n",
       "    </tr>\n",
       "  </thead>\n",
       "  <tbody>\n",
       "    <tr>\n",
       "      <th>0</th>\n",
       "      <td>A0</td>\n",
       "      <td>CAPE COD</td>\n",
       "    </tr>\n",
       "    <tr>\n",
       "      <th>1</th>\n",
       "      <td>A1</td>\n",
       "      <td>TWO STORIES - DETACHED SM OR MID</td>\n",
       "    </tr>\n",
       "    <tr>\n",
       "      <th>2</th>\n",
       "      <td>A2</td>\n",
       "      <td>ONE STORY - PERMANENT LIVING QUARTER</td>\n",
       "    </tr>\n",
       "    <tr>\n",
       "      <th>3</th>\n",
       "      <td>A3</td>\n",
       "      <td>LARGE SUBURBAN RESIDENCE</td>\n",
       "    </tr>\n",
       "    <tr>\n",
       "      <th>4</th>\n",
       "      <td>A4</td>\n",
       "      <td>CITY RESIDENCE ONE FAMILY</td>\n",
       "    </tr>\n",
       "  </tbody>\n",
       "</table>\n",
       "</div>"
      ],
      "text/plain": [
       "  building_class_code                           description\n",
       "0                  A0                              CAPE COD\n",
       "1                  A1      TWO STORIES - DETACHED SM OR MID\n",
       "2                  A2  ONE STORY - PERMANENT LIVING QUARTER\n",
       "3                  A3              LARGE SUBURBAN RESIDENCE\n",
       "4                  A4             CITY RESIDENCE ONE FAMILY"
      ]
     },
     "execution_count": 44,
     "metadata": {},
     "output_type": "execute_result"
    }
   ],
   "source": [
    "building_codes = pd.read_csv(\"data/building_class.psv\", sep='|')\n",
    "building_codes.head()"
   ]
  },
  {
   "cell_type": "markdown",
   "id": "5796af32",
   "metadata": {},
   "source": [
    "Despite their different names, the \"building_class_code\", \"building_class_at_present\", and \"building_class_at_time_of_sale\" columns all represent the same thing: the building code of a property. We can use this new dataframe to enhance our original dataframe by providing the building class descriptions instead of relying solely on the code which is hard to interpet."
   ]
  },
  {
   "cell_type": "markdown",
   "id": "a7cce8fe",
   "metadata": {},
   "source": [
    "*But* first - let's clean up the building code descrption by switching the text from all uppercase to capitalized. "
   ]
  },
  {
   "cell_type": "code",
   "execution_count": 45,
   "id": "d7cbce32",
   "metadata": {},
   "outputs": [],
   "source": [
    "building_codes['description'] = building_codes['description'].apply(lambda x: x.capitalize())"
   ]
  },
  {
   "cell_type": "markdown",
   "id": "0e12d5bf",
   "metadata": {},
   "source": [
    "Now, we can merge (or \"join\") the \"building_code_description\" dataframe with our original dataset. We need to join it twice, for 2 columns:\n",
    "\n",
    "1. `building_class_at_time_of_sale`\n",
    "2. `building_class_at_present`\n",
    "\n",
    "A join works by matching the values of one dataframe (let's called it the Left DataFrame) with the values of another dataframe (the Right DataFrame). It's important that the two joining dataframes share a common column; this is what gets used for the matching. In the illustration below, the green column is the common column shared between the Left and Right DataFrames.\n",
    "\n",
    "<img width='60%' src=\"assets/join_tables_example.png\"/>\n",
    "\n",
    "### Types of Join\n",
    "\n",
    "What happens when the common column between two tables isn't the \"perfect match\"? For example, what if the Left DataFrame has a value that isn't found in the Right DataFrame, or vice versa? We will need to decide how to handle this by choosing what type of join to apply. There are several types of joins to choose from: \n",
    "\n",
    "1. **Inner join:** Returns rows when there is a match in both dataframes. \n",
    "    - If the Left DataFrame has a value that isn't found in the Right DataFrame, we would drop the rows having that value in the Left DataFrame. \n",
    "2. **Left join:** Returns all rows from the Left DataFrame, even if there are no matches in the Right DataFrame.\n",
    "    - If the Left DataFrame has a value that isn't found in the Right DataFrame, we would keep the rows having this value but in the resulting dataframe, those rows would have null (missing) values for the columns associated with the Right DataFrame. We would drop the rows of the Right DataFrame taht don't match the Left DataFrame.\n",
    "3. **Right join:** Returns all rows from the Right DataFrame, even if there are no matches in the Left DataFrame.\n",
    "    - Same logic as the left join but this time, we keep all rows from the Right DataFrame. We would drop the rows of the Left DataFrame that don't match the Right DataFrame. \n",
    "4. **Full outer join:** Returns  all rows from the Left and Right DataFrames even if there are no matches between them. \n",
    "    - This can result in a very large dataset!\n",
    "\n",
    "### Overview of the Joins\n",
    "\n",
    "<img width=\"85%\" src=\"assets/joins_overview.png\"/>\n",
    "\n",
    "```{note}\n",
    "Based on personal experience, I find that the `left join` and `inner join` are the most common types of joins used in data science. It's quite rare to see the `right join` and `full outer join` in the wild.\n",
    "```\n",
    "\n",
    "### Applying `.merge()` to the data\n",
    "\n",
    "We can apply this join technique onto our Pandas DataFrames using the `.merge()` function. This is how the syntax looks:\n",
    "\n",
    "```\n",
    "CombinedDataFrame = LeftDataFrame.merge(RightDataFrame, how='left', left_on='left_col', right_on='right_col')\n",
    "```\n",
    "\n",
    "The RightDataFrame is merged onto the LeftDataFrame using `.merge()`. This is what the parameters inside of `.merge()` represent:\n",
    "\n",
    "- `how` indicates which type of join you want to apply. Options include: 'inner', 'left', 'right', 'outer', 'cross'. The default is 'inner'.\n",
    "- `left_on` indicates the common column of the Left DataFrame and `right_on` represents the common column of the Right DataFrame\n",
    "- If both dataframes have the same name for the common column, you can simply use `on` (and omit `left_on` and `right_on`)\n",
    "\n",
    "In our particular case, we'll be merging our original dataframe (which we call the \"Left DataFrame\") onto the building code dataframe (the Right DataFrame). Let's see how it looks in action:"
   ]
  },
  {
   "cell_type": "code",
   "execution_count": 46,
   "id": "4caf7046",
   "metadata": {},
   "outputs": [],
   "source": [
    "combined_dataframe = (\n",
    "    df_filtered.merge(\n",
    "        building_codes.rename(columns={\n",
    "            'building_class_code': 'building_class_at_present',\n",
    "            'description': 'building_description_at_present'\n",
    "        }), \n",
    "        how='left', \n",
    "        on='building_class_at_present'\n",
    "    )\n",
    "    .merge(\n",
    "        building_codes.rename(columns={\n",
    "            'building_class_code': 'building_class_at_time_of_sale',\n",
    "            'description': 'building_description_at_time_of_sale'\n",
    "        }), \n",
    "        how='left', \n",
    "        on='building_class_at_time_of_sale', \n",
    "    )\n",
    ")"
   ]
  },
  {
   "cell_type": "markdown",
   "id": "a02c50bf",
   "metadata": {},
   "source": [
    "In the code above, we chained 2 merges one after the next because we wanted to join `building_class` onto our original dataframe twice: 1) on \"building_class_at_present\" and 2) on \"building_class_at_time_of_sale\". To make things easier with the merge, we also renamed \"building_class_code\" for each merge so that the column in `building_class` matched what was in the original dataframe. This allowed us to simply use the `on` argument when identifying the common column instead of having to use `left_on` and `right_on`. "
   ]
  },
  {
   "cell_type": "code",
   "execution_count": 47,
   "id": "f9cc86f1",
   "metadata": {},
   "outputs": [
    {
     "data": {
      "text/html": [
       "<div>\n",
       "<style scoped>\n",
       "    .dataframe tbody tr th:only-of-type {\n",
       "        vertical-align: middle;\n",
       "    }\n",
       "\n",
       "    .dataframe tbody tr th {\n",
       "        vertical-align: top;\n",
       "    }\n",
       "\n",
       "    .dataframe thead th {\n",
       "        text-align: right;\n",
       "    }\n",
       "</style>\n",
       "<table border=\"1\" class=\"dataframe\">\n",
       "  <thead>\n",
       "    <tr style=\"text-align: right;\">\n",
       "      <th></th>\n",
       "      <th>borough</th>\n",
       "      <th>neighborhood</th>\n",
       "      <th>building_class_category</th>\n",
       "      <th>building_class_at_present</th>\n",
       "      <th>address</th>\n",
       "      <th>apartment_number</th>\n",
       "      <th>zip_code</th>\n",
       "      <th>residential_units</th>\n",
       "      <th>commercial_units</th>\n",
       "      <th>total_units</th>\n",
       "      <th>land_square_feet</th>\n",
       "      <th>gross_square_feet</th>\n",
       "      <th>year_built</th>\n",
       "      <th>building_class_at_time_of_sale</th>\n",
       "      <th>sale_price</th>\n",
       "      <th>sale_date</th>\n",
       "      <th>building_description_at_present</th>\n",
       "      <th>building_description_at_time_of_sale</th>\n",
       "    </tr>\n",
       "  </thead>\n",
       "  <tbody>\n",
       "    <tr>\n",
       "      <th>0</th>\n",
       "      <td>Manhattan</td>\n",
       "      <td>Alphabet City</td>\n",
       "      <td>Rentals - walkup apartments</td>\n",
       "      <td>C2</td>\n",
       "      <td>153 AVENUE B</td>\n",
       "      <td></td>\n",
       "      <td>10009</td>\n",
       "      <td>5</td>\n",
       "      <td>0</td>\n",
       "      <td>5</td>\n",
       "      <td>1633.0</td>\n",
       "      <td>6440.0</td>\n",
       "      <td>1900</td>\n",
       "      <td>C2</td>\n",
       "      <td>6625000.0</td>\n",
       "      <td>2017-07-19</td>\n",
       "      <td>Five to six families</td>\n",
       "      <td>Five to six families</td>\n",
       "    </tr>\n",
       "    <tr>\n",
       "      <th>1</th>\n",
       "      <td>Manhattan</td>\n",
       "      <td>Alphabet City</td>\n",
       "      <td>Rentals - walkup apartments</td>\n",
       "      <td>C4</td>\n",
       "      <td>154 EAST 7TH STREET</td>\n",
       "      <td></td>\n",
       "      <td>10009</td>\n",
       "      <td>10</td>\n",
       "      <td>0</td>\n",
       "      <td>10</td>\n",
       "      <td>2272.0</td>\n",
       "      <td>6794.0</td>\n",
       "      <td>1913</td>\n",
       "      <td>C4</td>\n",
       "      <td>3936272.0</td>\n",
       "      <td>2016-09-23</td>\n",
       "      <td>Old law tenement</td>\n",
       "      <td>Old law tenement</td>\n",
       "    </tr>\n",
       "    <tr>\n",
       "      <th>2</th>\n",
       "      <td>Manhattan</td>\n",
       "      <td>Alphabet City</td>\n",
       "      <td>Rentals - walkup apartments</td>\n",
       "      <td>C2</td>\n",
       "      <td>301 EAST 10TH   STREET</td>\n",
       "      <td></td>\n",
       "      <td>10009</td>\n",
       "      <td>6</td>\n",
       "      <td>0</td>\n",
       "      <td>6</td>\n",
       "      <td>2369.0</td>\n",
       "      <td>4615.0</td>\n",
       "      <td>1900</td>\n",
       "      <td>C2</td>\n",
       "      <td>8000000.0</td>\n",
       "      <td>2016-11-17</td>\n",
       "      <td>Five to six families</td>\n",
       "      <td>Five to six families</td>\n",
       "    </tr>\n",
       "    <tr>\n",
       "      <th>3</th>\n",
       "      <td>Manhattan</td>\n",
       "      <td>Alphabet City</td>\n",
       "      <td>Rentals - walkup apartments</td>\n",
       "      <td>C4</td>\n",
       "      <td>210 AVENUE B</td>\n",
       "      <td></td>\n",
       "      <td>10009</td>\n",
       "      <td>8</td>\n",
       "      <td>0</td>\n",
       "      <td>8</td>\n",
       "      <td>1750.0</td>\n",
       "      <td>4226.0</td>\n",
       "      <td>1920</td>\n",
       "      <td>C4</td>\n",
       "      <td>3192840.0</td>\n",
       "      <td>2016-09-23</td>\n",
       "      <td>Old law tenement</td>\n",
       "      <td>Old law tenement</td>\n",
       "    </tr>\n",
       "    <tr>\n",
       "      <th>4</th>\n",
       "      <td>Manhattan</td>\n",
       "      <td>Alphabet City</td>\n",
       "      <td>Rentals - elevator apartments</td>\n",
       "      <td>D9</td>\n",
       "      <td>629 EAST 5TH STREET</td>\n",
       "      <td></td>\n",
       "      <td>10009</td>\n",
       "      <td>24</td>\n",
       "      <td>0</td>\n",
       "      <td>24</td>\n",
       "      <td>4489.0</td>\n",
       "      <td>18523.0</td>\n",
       "      <td>1920</td>\n",
       "      <td>D9</td>\n",
       "      <td>16232000.0</td>\n",
       "      <td>2016-11-07</td>\n",
       "      <td>Elevator apt; miscellaneous</td>\n",
       "      <td>Elevator apt; miscellaneous</td>\n",
       "    </tr>\n",
       "  </tbody>\n",
       "</table>\n",
       "</div>"
      ],
      "text/plain": [
       "     borough   neighborhood        building_class_category  \\\n",
       "0  Manhattan  Alphabet City    Rentals - walkup apartments   \n",
       "1  Manhattan  Alphabet City    Rentals - walkup apartments   \n",
       "2  Manhattan  Alphabet City    Rentals - walkup apartments   \n",
       "3  Manhattan  Alphabet City    Rentals - walkup apartments   \n",
       "4  Manhattan  Alphabet City  Rentals - elevator apartments   \n",
       "\n",
       "  building_class_at_present                 address apartment_number  \\\n",
       "0                        C2            153 AVENUE B                    \n",
       "1                        C4     154 EAST 7TH STREET                    \n",
       "2                        C2  301 EAST 10TH   STREET                    \n",
       "3                        C4            210 AVENUE B                    \n",
       "4                        D9     629 EAST 5TH STREET                    \n",
       "\n",
       "   zip_code  residential_units  commercial_units  total_units  \\\n",
       "0     10009                  5                 0            5   \n",
       "1     10009                 10                 0           10   \n",
       "2     10009                  6                 0            6   \n",
       "3     10009                  8                 0            8   \n",
       "4     10009                 24                 0           24   \n",
       "\n",
       "   land_square_feet  gross_square_feet  year_built  \\\n",
       "0            1633.0             6440.0        1900   \n",
       "1            2272.0             6794.0        1913   \n",
       "2            2369.0             4615.0        1900   \n",
       "3            1750.0             4226.0        1920   \n",
       "4            4489.0            18523.0        1920   \n",
       "\n",
       "  building_class_at_time_of_sale  sale_price  sale_date  \\\n",
       "0                             C2   6625000.0 2017-07-19   \n",
       "1                             C4   3936272.0 2016-09-23   \n",
       "2                             C2   8000000.0 2016-11-17   \n",
       "3                             C4   3192840.0 2016-09-23   \n",
       "4                             D9  16232000.0 2016-11-07   \n",
       "\n",
       "  building_description_at_present building_description_at_time_of_sale  \n",
       "0            Five to six families                 Five to six families  \n",
       "1                Old law tenement                     Old law tenement  \n",
       "2            Five to six families                 Five to six families  \n",
       "3                Old law tenement                     Old law tenement  \n",
       "4     Elevator apt; miscellaneous          Elevator apt; miscellaneous  "
      ]
     },
     "execution_count": 47,
     "metadata": {},
     "output_type": "execute_result"
    }
   ],
   "source": [
    "combined_dataframe.head()"
   ]
  },
  {
   "cell_type": "markdown",
   "id": "0e89bb86",
   "metadata": {},
   "source": [
    "If you scroll to the very right, you'll see two new columns: \"building_description_at_present\" and \"building_description_at_time_of_sale\", which resulted from our merged dataframes in the code above.\n",
    "\n",
    "<img src=\"https://media.giphy.com/media/FNJ6MX0nn8lfW/giphy.gif\"/>"
   ]
  },
  {
   "cell_type": "markdown",
   "id": "cc51b84c",
   "metadata": {},
   "source": [
    "## 9) Writing the clean dataframe to a new csv file \n",
    "\n",
    "We have a clean dataset that we can start exploring. To load the clean version of our dataframe into another Jupyter Notebook, we will need to save it as a csv file 💾. To do this, we can use `.to_csv()`. Inside `.to_csv()`, we need to specify the location where we want the csv file to be saved:"
   ]
  },
  {
   "cell_type": "code",
   "execution_count": 48,
   "id": "224ef54c",
   "metadata": {},
   "outputs": [],
   "source": [
    "combined_dataframe.to_csv(\"data/nyc_real_estate_clean.csv\", index=False)"
   ]
  },
  {
   "cell_type": "markdown",
   "id": "c3725d89",
   "metadata": {},
   "source": [
    "By default, there's an `index` argument which is set to True. With this setting, the index is included as a separate column in the csv file. For our dataset, we don't want this extra index column so we set `index` to False.\n",
    "\n",
    "<img width=\"70%\" src=\"assets/to_csv_index_output.png\"/>"
   ]
  }
 ],
 "metadata": {
  "kernelspec": {
   "display_name": "Python 3 (ipykernel)",
   "language": "python",
   "name": "python3"
  },
  "language_info": {
   "codemirror_mode": {
    "name": "ipython",
    "version": 3
   },
   "file_extension": ".py",
   "mimetype": "text/x-python",
   "name": "python",
   "nbconvert_exporter": "python",
   "pygments_lexer": "ipython3",
   "version": "3.9.12"
  }
 },
 "nbformat": 4,
 "nbformat_minor": 5
}
